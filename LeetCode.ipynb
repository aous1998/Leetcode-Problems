{
 "cells": [
  {
   "cell_type": "markdown",
   "metadata": {},
   "source": [
    "1.Merge Sorted Array"
   ]
  },
  {
   "cell_type": "code",
   "execution_count": 2,
   "metadata": {},
   "outputs": [
    {
     "name": "stdout",
     "output_type": "stream",
     "text": [
      "Before merging: [1, 2, 3, 0, 0, 0]\n",
      "After merging: [1, 2, 2, 3, 5, 6]\n"
     ]
    }
   ],
   "source": [
    "class Solution(object):\n",
    "    def merge(self, nums1, m, nums2, n):\n",
    "        # m is the numebr of initialized elements in nums1\n",
    "        # n is the number of initialized elements in nums2\n",
    "        # last is the index of the last position in nums1\n",
    "        last = m + n - 1\n",
    "        \n",
    "        # Merge in reverse order\n",
    "        while m > 0 and n > 0:\n",
    "            if nums1[m - 1] > nums2[n - 1]:\n",
    "                nums1[last] = nums1[m - 1]\n",
    "                m -= 1\n",
    "            else:\n",
    "                nums1[last] = nums2[n - 1]\n",
    "                n -= 1\n",
    "            last -= 1  # Move the last index down\n",
    "\n",
    "        # Fill nums1 with leftover nums2 elements\n",
    "        while n > 0:\n",
    "            nums1[last] = nums2[n - 1]\n",
    "            n -= 1\n",
    "            last -= 1\n",
    "# Example usage\n",
    "if __name__ == \"__main__\":\n",
    "    solution = Solution()\n",
    "    nums1 = [1, 2, 3, 0, 0, 0]  # Predefined nums1 with zeros for the merge\n",
    "    m = 3  # Number of initialized elements in nums1\n",
    "    nums2 = [2, 5, 6]  # nums2 to be merged\n",
    "    n = 3  # Number of initialized elements in nums2\n",
    "    \n",
    "    print(\"Before merging:\", nums1)\n",
    "    solution.merge(nums1, m, nums2, n)\n",
    "    print(\"After merging:\", nums1)\n"
   ]
  },
  {
   "cell_type": "markdown",
   "metadata": {},
   "source": [
    "2.Remove Element"
   ]
  },
  {
   "cell_type": "code",
   "execution_count": 4,
   "metadata": {},
   "outputs": [
    {
     "name": "stdout",
     "output_type": "stream",
     "text": [
      "Array after removal: [1, 2, 2, 2]\n",
      "New length of the array: 4\n"
     ]
    }
   ],
   "source": [
    "class Solution(object):\n",
    "    def removeElement(self, nums, val):\n",
    "        k = 0  # Pointer for the position to place the next valid element\n",
    "        for i in range(len(nums)):  # Corrected loop syntax\n",
    "            if nums[i] != val:\n",
    "                nums[k] = nums[i]  # Move the valid element to the front\n",
    "                k += 1  # Increment k to point to the next position\n",
    "        return k  # Return the new length of the array\n",
    "\n",
    "# Example usage\n",
    "if __name__ == \"__main__\":\n",
    "    solution = Solution()\n",
    "    nums = [1,2,3, 2, 2, 3]  # Original array\n",
    "    val = 3  # Value to remove\n",
    "    new_length = solution.removeElement(nums, val)\n",
    "\n",
    "    print(\"Array after removal:\", nums[:new_length])  # Print the array up to the new length\n",
    "    print(\"New length of the array:\", new_length)\n"
   ]
  },
  {
   "cell_type": "markdown",
   "metadata": {},
   "source": [
    "3.Remove Duplicates From Sorted Array"
   ]
  },
  {
   "cell_type": "code",
   "execution_count": 12,
   "metadata": {
    "vscode": {
     "languageId": "ruby"
    }
   },
   "outputs": [
    {
     "name": "stdout",
     "output_type": "stream",
     "text": [
      "6\n",
      "[1, 2, 3, 4, 5, 6]\n"
     ]
    }
   ],
   "source": [
    "# Sorting in ascending order or increasing order == non-decreasing order\n",
    "class Solution:\n",
    "    def removeDuplicates(self, nums):\n",
    "        if not nums:  # Check for an empty list\n",
    "            return 0\n",
    "        \n",
    "        l = 1  # Start from the second element\n",
    "        for r in range(1, len(nums)):  # Start from index 1\n",
    "            if nums[r] != nums[r - 1]:\n",
    "                nums[l] = nums[r]\n",
    "                l += 1\n",
    "        return l\n",
    "\n",
    "if __name__ == \"__main__\":\n",
    "    nums = [1, 1, 2, 3, 4, 4, 5, 6, 6]\n",
    "    s = Solution()\n",
    "    length = s.removeDuplicates(nums)\n",
    "    print(length)  # Print the length of unique elements\n",
    "    print(nums[:length])  # Print the list of unique elements\n"
   ]
  },
  {
   "cell_type": "markdown",
   "metadata": {},
   "source": [
    "4.Remove Duplicates From Sorted Array II"
   ]
  },
  {
   "cell_type": "code",
   "execution_count": 13,
   "metadata": {
    "vscode": {
     "languageId": "ruby"
    }
   },
   "outputs": [
    {
     "name": "stdout",
     "output_type": "stream",
     "text": [
      "8\n",
      "[1, 1, 2, 2, 3, 4, 4, 5]\n"
     ]
    }
   ],
   "source": [
    "class Solution:\n",
    "    def removeDuplicates(self, nums):\n",
    "        l, r = 0, 0\n",
    "        while r < len(nums):\n",
    "            count = 1\n",
    "            while r + 1 < len(nums) and nums[r] == nums[r + 1]:  # Changed '=' to '=='\n",
    "                r += 1\n",
    "                count += 1\n",
    "            for i in range(min(2, count)):\n",
    "                nums[l] = nums[r]\n",
    "                l += 1\n",
    "            r += 1\n",
    "        return l\n",
    "\n",
    "if __name__ == \"__main__\":\n",
    "    nums = [1, 1, 1, 2, 2, 3, 4, 4, 5]\n",
    "    s = Solution()\n",
    "    length = s.removeDuplicates(nums)\n",
    "    print(length)  # Print the length of unique elements\n",
    "    print(nums[:length])  # Print the list of unique elements\n"
   ]
  },
  {
   "cell_type": "markdown",
   "metadata": {},
   "source": [
    "5.Majority Element"
   ]
  },
  {
   "cell_type": "code",
   "execution_count": 16,
   "metadata": {
    "vscode": {
     "languageId": "ruby"
    }
   },
   "outputs": [
    {
     "name": "stdout",
     "output_type": "stream",
     "text": [
      "1\n"
     ]
    }
   ],
   "source": [
    "#Boyer-Moore Voting Algorithm\n",
    "#is used to find the majority element in a list.\n",
    "#A majority element is an element that appears more than half the time in a given list.\n",
    "class Solution:\n",
    "    def majorityElement(self, nums):\n",
    "        res, count = 0, 0\n",
    "        for n in nums:\n",
    "            if count == 0:  \n",
    "                res = n\n",
    "            count += (1 if n == res else -1)\n",
    "        return res\n",
    "\n",
    "if __name__ == \"__main__\":\n",
    "    nums = [1, 2, 1, 1, 1, 2, 2]\n",
    "    s = Solution()\n",
    "    result = s.majorityElement(nums)\n",
    "    print(result)  # Print the majority element\n"
   ]
  },
  {
   "cell_type": "markdown",
   "metadata": {},
   "source": [
    "6.Rotate Array"
   ]
  },
  {
   "cell_type": "code",
   "execution_count": 21,
   "metadata": {
    "vscode": {
     "languageId": "ruby"
    }
   },
   "outputs": [
    {
     "name": "stdout",
     "output_type": "stream",
     "text": [
      "[4, 5, 1, 2, 3]\n"
     ]
    }
   ],
   "source": [
    "class Solution(object):\n",
    "    def rotate(self, nums, k):\n",
    "        # Adjust k to handle cases where k is larger than the length of nums.\n",
    "        k = k % len(nums)\n",
    "\n",
    "        # Reverse the entire list\n",
    "        l, r = 0, len(nums) - 1\n",
    "        while l < r:\n",
    "            nums[l], nums[r] = nums[r], nums[l]\n",
    "            l, r = l + 1, r - 1\n",
    "\n",
    "        # Reverse the first k elements\n",
    "        l, r = 0, k - 1\n",
    "        while l < r:\n",
    "            nums[l], nums[r] = nums[r], nums[l]\n",
    "            l, r = l + 1, r - 1\n",
    "\n",
    "        # Reverse the remaining elements\n",
    "        l, r = k, len(nums) - 1\n",
    "        while l < r:\n",
    "            nums[l], nums[r] = nums[r], nums[l]\n",
    "            l, r = l + 1, r - 1\n",
    "\n",
    "# Example usage:\n",
    "solution = Solution()\n",
    "nums = [1, 2, 3, 4, 5]\n",
    "k = 2\n",
    "solution.rotate(nums, k)\n",
    "print(nums)  \n"
   ]
  },
  {
   "cell_type": "markdown",
   "metadata": {},
   "source": [
    "7.Best Time to Buy and Sell Stock"
   ]
  },
  {
   "cell_type": "code",
   "execution_count": 22,
   "metadata": {
    "vscode": {
     "languageId": "ruby"
    }
   },
   "outputs": [
    {
     "name": "stdout",
     "output_type": "stream",
     "text": [
      "Maximum Profit: 5\n"
     ]
    }
   ],
   "source": [
    "class Solution(object):\n",
    "    def maxProfit(self, prices):\n",
    "        l, r = 0, 1  # left buy low, right sell high\n",
    "        mp = 0  # maximum profit\n",
    "\n",
    "        while r < len(prices):\n",
    "            if prices[l] < prices[r]:\n",
    "                profit = prices[r] - prices[l]\n",
    "                mp = max(mp, profit)\n",
    "            else:\n",
    "                l = r  # shift to the lowest\n",
    "            r += 1\n",
    "        \n",
    "        return mp\n",
    "\n",
    "# Example usage:\n",
    "solution = Solution()\n",
    "prices = [7, 1, 5, 3, 6, 4]\n",
    "max_profit = solution.maxProfit(prices)\n",
    "print(f\"Maximum Profit: {max_profit}\")  # Output: Maximum Profit: 5\n"
   ]
  },
  {
   "cell_type": "markdown",
   "metadata": {},
   "source": [
    "8.Best Time to Buy and Sell a Stock II "
   ]
  },
  {
   "cell_type": "code",
   "execution_count": null,
   "metadata": {
    "vscode": {
     "languageId": "ruby"
    }
   },
   "outputs": [],
   "source": []
  }
 ],
 "metadata": {
  "kernelspec": {
   "display_name": "Python 3",
   "language": "python",
   "name": "python3"
  },
  "language_info": {
   "codemirror_mode": {
    "name": "ipython",
    "version": 3
   },
   "file_extension": ".py",
   "mimetype": "text/x-python",
   "name": "python",
   "nbconvert_exporter": "python",
   "pygments_lexer": "ipython3",
   "version": "3.12.5"
  }
 },
 "nbformat": 4,
 "nbformat_minor": 2
}
